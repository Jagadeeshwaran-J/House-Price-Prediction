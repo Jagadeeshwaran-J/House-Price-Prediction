{
 "cells": [
  {
   "cell_type": "markdown",
   "id": "e390097d-e5f6-46f3-8ea5-1b918fdc3f52",
   "metadata": {},
   "source": [
    "# 1. choose a dataset (I choose house price prediction regression data)"
   ]
  },
  {
   "cell_type": "raw",
   "id": "7deb722e-037a-410a-8927-042ccebf8075",
   "metadata": {},
   "source": [
    "# In this dataset, the objective is to predict house prices using all other columns. \n",
    "# It is a regression dataset with no missing values. \n",
    "# Various algorithms, including RandomForestRegressor, LinearRegression, DecisionTreeRegressor, and KNeighborsRegressor have been utilized.\n",
    "# Let's determine which algorithm achieves the lowest MSE (Mean Squared Error) and MAE (Mean Absolute Error) with high (r2_score)."
   ]
  },
  {
   "cell_type": "markdown",
   "id": "eed14561-adc2-4a32-ac11-12ce21de8833",
   "metadata": {},
   "source": [
    "# 2. Import all the necessary libraries"
   ]
  },
  {
   "cell_type": "code",
   "execution_count": 1,
   "id": "36e75ff6-b893-4777-9a65-e67d30dd64ef",
   "metadata": {},
   "outputs": [
    {
     "name": "stderr",
     "output_type": "stream",
     "text": [
      "C:\\Users\\fraud\\AppData\\Local\\Temp\\ipykernel_16656\\520956343.py:2: DeprecationWarning: \n",
      "Pyarrow will become a required dependency of pandas in the next major release of pandas (pandas 3.0),\n",
      "(to allow more performant data types, such as the Arrow string type, and better interoperability with other libraries)\n",
      "but was not found to be installed on your system.\n",
      "If this would cause problems for you,\n",
      "please provide us feedback at https://github.com/pandas-dev/pandas/issues/54466\n",
      "        \n",
      "  import pandas as pd\n"
     ]
    }
   ],
   "source": [
    "import numpy as np\n",
    "import pandas as pd\n",
    "import matplotlib.pyplot as plt \n",
    "import scipy.stats as stats \n",
    "from sklearn.preprocessing import StandardScaler  \n",
    "from sklearn.model_selection import train_test_split  \n",
    "from sklearn.neighbors import KNeighborsRegressor \n",
    "from sklearn.linear_model import LinearRegression\n",
    "from sklearn.tree import DecisionTreeRegressor\n",
    "from sklearn.ensemble import RandomForestRegressor\n",
    "from sklearn.metrics import mean_squared_error, mean_absolute_error, r2_score  "
   ]
  },
  {
   "cell_type": "markdown",
   "id": "004ee519-c205-4c3d-ba4f-f2072a083aea",
   "metadata": {},
   "source": [
    "# 3. Load the dataset using pandas module"
   ]
  },
  {
   "cell_type": "code",
   "execution_count": 2,
   "id": "358f50ef-1e73-4dfb-8509-be06a5942a45",
   "metadata": {},
   "outputs": [
    {
     "data": {
      "text/html": [
       "<div>\n",
       "<style scoped>\n",
       "    .dataframe tbody tr th:only-of-type {\n",
       "        vertical-align: middle;\n",
       "    }\n",
       "\n",
       "    .dataframe tbody tr th {\n",
       "        vertical-align: top;\n",
       "    }\n",
       "\n",
       "    .dataframe thead th {\n",
       "        text-align: right;\n",
       "    }\n",
       "</style>\n",
       "<table border=\"1\" class=\"dataframe\">\n",
       "  <thead>\n",
       "    <tr style=\"text-align: right;\">\n",
       "      <th></th>\n",
       "      <th>price</th>\n",
       "      <th>bedrooms</th>\n",
       "      <th>bathrooms</th>\n",
       "      <th>sqft_living</th>\n",
       "      <th>sqft_lot</th>\n",
       "      <th>floors</th>\n",
       "      <th>waterfront</th>\n",
       "      <th>view</th>\n",
       "      <th>condition</th>\n",
       "      <th>sqft_above</th>\n",
       "      <th>sqft_basement</th>\n",
       "      <th>yr_built</th>\n",
       "    </tr>\n",
       "  </thead>\n",
       "  <tbody>\n",
       "    <tr>\n",
       "      <th>0</th>\n",
       "      <td>313000.0</td>\n",
       "      <td>3</td>\n",
       "      <td>1.50</td>\n",
       "      <td>1340</td>\n",
       "      <td>7912</td>\n",
       "      <td>1.5</td>\n",
       "      <td>0</td>\n",
       "      <td>0</td>\n",
       "      <td>3</td>\n",
       "      <td>1340</td>\n",
       "      <td>0</td>\n",
       "      <td>1955</td>\n",
       "    </tr>\n",
       "    <tr>\n",
       "      <th>1</th>\n",
       "      <td>2384000.0</td>\n",
       "      <td>5</td>\n",
       "      <td>2.50</td>\n",
       "      <td>3650</td>\n",
       "      <td>9050</td>\n",
       "      <td>2.0</td>\n",
       "      <td>0</td>\n",
       "      <td>4</td>\n",
       "      <td>5</td>\n",
       "      <td>3370</td>\n",
       "      <td>280</td>\n",
       "      <td>1921</td>\n",
       "    </tr>\n",
       "    <tr>\n",
       "      <th>2</th>\n",
       "      <td>342000.0</td>\n",
       "      <td>3</td>\n",
       "      <td>2.00</td>\n",
       "      <td>1930</td>\n",
       "      <td>11947</td>\n",
       "      <td>1.0</td>\n",
       "      <td>0</td>\n",
       "      <td>0</td>\n",
       "      <td>4</td>\n",
       "      <td>1930</td>\n",
       "      <td>0</td>\n",
       "      <td>1966</td>\n",
       "    </tr>\n",
       "    <tr>\n",
       "      <th>3</th>\n",
       "      <td>420000.0</td>\n",
       "      <td>3</td>\n",
       "      <td>2.25</td>\n",
       "      <td>2000</td>\n",
       "      <td>8030</td>\n",
       "      <td>1.0</td>\n",
       "      <td>0</td>\n",
       "      <td>0</td>\n",
       "      <td>4</td>\n",
       "      <td>1000</td>\n",
       "      <td>1000</td>\n",
       "      <td>1963</td>\n",
       "    </tr>\n",
       "    <tr>\n",
       "      <th>4</th>\n",
       "      <td>550000.0</td>\n",
       "      <td>4</td>\n",
       "      <td>2.50</td>\n",
       "      <td>1940</td>\n",
       "      <td>10500</td>\n",
       "      <td>1.0</td>\n",
       "      <td>0</td>\n",
       "      <td>0</td>\n",
       "      <td>4</td>\n",
       "      <td>1140</td>\n",
       "      <td>800</td>\n",
       "      <td>1976</td>\n",
       "    </tr>\n",
       "  </tbody>\n",
       "</table>\n",
       "</div>"
      ],
      "text/plain": [
       "       price  bedrooms  bathrooms  sqft_living  sqft_lot  floors  waterfront  \\\n",
       "0   313000.0         3       1.50         1340      7912     1.5           0   \n",
       "1  2384000.0         5       2.50         3650      9050     2.0           0   \n",
       "2   342000.0         3       2.00         1930     11947     1.0           0   \n",
       "3   420000.0         3       2.25         2000      8030     1.0           0   \n",
       "4   550000.0         4       2.50         1940     10500     1.0           0   \n",
       "\n",
       "   view  condition  sqft_above  sqft_basement  yr_built  \n",
       "0     0          3        1340              0      1955  \n",
       "1     4          5        3370            280      1921  \n",
       "2     0          4        1930              0      1966  \n",
       "3     0          4        1000           1000      1963  \n",
       "4     0          4        1140            800      1976  "
      ]
     },
     "execution_count": 2,
     "metadata": {},
     "output_type": "execute_result"
    }
   ],
   "source": [
    "df = pd.read_csv(r\"C:\\Users\\fraud\\Desktop\\ML Project\\House_pred (REGRESSION)\\house_price_pred_data.csv\")\n",
    "df.head()"
   ]
  },
  {
   "cell_type": "code",
   "execution_count": 3,
   "id": "9c5b67e6-61f4-4661-98cd-86fca0386a9e",
   "metadata": {},
   "outputs": [
    {
     "name": "stdout",
     "output_type": "stream",
     "text": [
      "<class 'pandas.core.frame.DataFrame'>\n",
      "RangeIndex: 4600 entries, 0 to 4599\n",
      "Data columns (total 12 columns):\n",
      " #   Column         Non-Null Count  Dtype  \n",
      "---  ------         --------------  -----  \n",
      " 0   price          4600 non-null   float64\n",
      " 1   bedrooms       4600 non-null   int64  \n",
      " 2   bathrooms      4600 non-null   float64\n",
      " 3   sqft_living    4600 non-null   int64  \n",
      " 4   sqft_lot       4600 non-null   int64  \n",
      " 5   floors         4600 non-null   float64\n",
      " 6   waterfront     4600 non-null   int64  \n",
      " 7   view           4600 non-null   int64  \n",
      " 8   condition      4600 non-null   int64  \n",
      " 9   sqft_above     4600 non-null   int64  \n",
      " 10  sqft_basement  4600 non-null   int64  \n",
      " 11  yr_built       4600 non-null   int64  \n",
      "dtypes: float64(3), int64(9)\n",
      "memory usage: 431.4 KB\n"
     ]
    }
   ],
   "source": [
    "df.info()"
   ]
  },
  {
   "cell_type": "code",
   "execution_count": 4,
   "id": "beefaa9b-1ddc-41cd-9199-0176ba069305",
   "metadata": {},
   "outputs": [
    {
     "name": "stdout",
     "output_type": "stream",
     "text": [
      "Size before removing outliers:  (4600, 12)\n",
      "Size after removing outliers:  (4244, 12)\n"
     ]
    }
   ],
   "source": [
    "# removing outliers\n",
    "zs = stats.zscore(df) \n",
    "threshold = 3 \n",
    "print(\"Size before removing outliers: \", df.shape)\n",
    "df = df[(zs <= threshold).all(axis=1)] \n",
    "print(\"Size after removing outliers: \", df.shape)"
   ]
  },
  {
   "cell_type": "markdown",
   "id": "70474ae5-7f95-42a5-ac58-356c47efe533",
   "metadata": {},
   "source": [
    "# 4. Feature selection (x,y) , Split data and scaling data (standard scalar)"
   ]
  },
  {
   "cell_type": "code",
   "execution_count": 5,
   "id": "d36fc14b-4d23-425d-a246-9aa914863f56",
   "metadata": {},
   "outputs": [
    {
     "name": "stdout",
     "output_type": "stream",
     "text": [
      "xtrain:  (3183, 11)\n",
      "xtest:  (1061, 11)\n",
      "x:  (4244, 11)\n",
      "y:  (4244,)\n"
     ]
    }
   ],
   "source": [
    "x = df.iloc[ : , 1:12].values\n",
    "y = df.iloc[ : , 0].values\n",
    "\n",
    "xtrain, xtest, ytrain, ytest = train_test_split(x, y, test_size=0.25, random_state=42)\n",
    "\n",
    "print(\"xtrain: \", xtrain.shape)\n",
    "print(\"xtest: \", xtest.shape)\n",
    "print(\"x: \", x.shape)\n",
    "print(\"y: \", y.shape)"
   ]
  },
  {
   "cell_type": "code",
   "execution_count": 6,
   "id": "a7283941-f8bc-41ab-87fc-90d95e2df479",
   "metadata": {},
   "outputs": [],
   "source": [
    "# feature scaling\n",
    "ss = StandardScaler()\n",
    "xtrain = ss.fit_transform(xtrain)\n",
    "xtest = ss.transform(xtest)"
   ]
  },
  {
   "cell_type": "markdown",
   "id": "e64ac566-e227-42b2-8952-3706ccd04aa7",
   "metadata": {},
   "source": [
    "# Random Forest Regressor"
   ]
  },
  {
   "cell_type": "code",
   "execution_count": 7,
   "id": "0f9757e1-abb7-4aa1-be08-21eb3470b989",
   "metadata": {},
   "outputs": [
    {
     "name": "stdout",
     "output_type": "stream",
     "text": [
      "Mean Squared Error:  43508700947.19712\n",
      "Mean Absolute Error:  140492.67697892114\n",
      "R-Square (R2):  0.416644516672915\n"
     ]
    }
   ],
   "source": [
    "#5. model creation by invoking algorithms\n",
    "rf = RandomForestRegressor()\n",
    "#6. model training by fitting (xtrain & ytrain data)\n",
    "rf.fit(xtrain, ytrain) \n",
    "#7. model prediction (ypre_rf)-'using xtest'\n",
    "ypre_rf = rf.predict(xtest)\n",
    "#8. calculate error using output metrics\n",
    "rf_mse = mean_squared_error(ytest, ypre_rf)\n",
    "rf_mae = mean_absolute_error(ytest, ypre_rf)\n",
    "rf_r2 = r2_score(ytest, ypre_rf)\n",
    "print(\"Mean Squared Error: \",rf_mse)\n",
    "print(\"Mean Absolute Error: \",rf_mae)\n",
    "print(\"R-Square (R2): \", rf_r2)"
   ]
  },
  {
   "cell_type": "markdown",
   "id": "038e94b1-6104-470b-b894-408b4c08b364",
   "metadata": {},
   "source": [
    "# Linear regression"
   ]
  },
  {
   "cell_type": "code",
   "execution_count": 8,
   "id": "d8abb255-cbec-49a0-b27b-6f3f3afc74c9",
   "metadata": {},
   "outputs": [
    {
     "name": "stdout",
     "output_type": "stream",
     "text": [
      "Mean Squared Error:  41203152652.96313\n",
      "Mean Absolute Error:  139597.77103050725\n",
      "R-Square (R2):  0.44755682180353873\n"
     ]
    }
   ],
   "source": [
    "#5. model creation by invoking algorithms\n",
    "lr = LinearRegression()\n",
    "#6. model training by fitting (xtrain & ytrain data)\n",
    "lr.fit(xtrain, ytrain)\n",
    "#7. model prediction (ypre_lr)-'using xtest'\n",
    "ypre_lr = lr.predict(xtest)\n",
    "#8. calculate error using output metrics\n",
    "lr_mse = mean_squared_error(ytest, ypre_lr)\n",
    "lr_mae = mean_absolute_error(ytest, ypre_lr)\n",
    "lr_r2 = r2_score(ytest, ypre_lr)\n",
    "print(\"Mean Squared Error: \",lr_mse)\n",
    "print(\"Mean Absolute Error: \",lr_mae)\n",
    "print(\"R-Square (R2): \", lr_r2)"
   ]
  },
  {
   "cell_type": "markdown",
   "id": "48300494-7a8e-4232-beea-c3b0e79ac37c",
   "metadata": {},
   "source": [
    "# DecisionTree Regressor"
   ]
  },
  {
   "cell_type": "code",
   "execution_count": 9,
   "id": "b1192645-53ad-4a6c-b5f9-cf75396aa0e6",
   "metadata": {},
   "outputs": [
    {
     "name": "stdout",
     "output_type": "stream",
     "text": [
      "Mean Squared Error:  73361197637.17154\n",
      "Mean Absolute Error:  186711.78460622052\n",
      "R-Square (R2):  0.01638853899537207\n"
     ]
    }
   ],
   "source": [
    "#5. model creation by invoking algorithms\n",
    "dt = DecisionTreeRegressor()\n",
    "#6. model training by fitting (xtrain & ytrain data)\n",
    "dt.fit(xtrain, ytrain)\n",
    "#7. model prediction (ypre_dt)-'using xtest'\n",
    "ypre_dt = dt.predict(xtest)\n",
    "#8. calculate error using output metrics\n",
    "dt_mse = mean_squared_error(ytest, ypre_dt)\n",
    "dt_mae = mean_absolute_error(ytest, ypre_dt)\n",
    "dt_r2 = r2_score(ytest, ypre_dt)\n",
    "print(\"Mean Squared Error: \",dt_mse)\n",
    "print(\"Mean Absolute Error: \",dt_mae)\n",
    "print(\"R-Square (R2): \", dt_r2)"
   ]
  },
  {
   "cell_type": "markdown",
   "id": "d9fbb589-397e-4bf0-b5ca-04d031070891",
   "metadata": {},
   "source": [
    "# KNN"
   ]
  },
  {
   "cell_type": "code",
   "execution_count": 10,
   "id": "22c66afa-c93f-430f-acf8-41a4c1a698f7",
   "metadata": {},
   "outputs": [
    {
     "name": "stdout",
     "output_type": "stream",
     "text": [
      "Mean Squared Error:  48036699800.623055\n",
      "Mean Absolute Error:  150717.13595768143\n",
      "R-Square (R2):  0.3559340633120929\n"
     ]
    }
   ],
   "source": [
    "#5. model creation by invoking algorithms\n",
    "kn = KNeighborsRegressor()\n",
    "#6. model training by fitting (xtrain & ytrain data)\n",
    "kn.fit(xtrain, ytrain)\n",
    "#7. model prediction (ypre_kn)-'using xtest'\n",
    "ypre_kn = kn.predict(xtest)\n",
    "#8. calculate error using output metrics\n",
    "kn_mse = mean_squared_error(ytest, ypre_kn)\n",
    "kn_mae = mean_absolute_error(ytest, ypre_kn)\n",
    "kn_r2 = r2_score(ytest, ypre_kn)\n",
    "print(\"Mean Squared Error: \",kn_mse)\n",
    "print(\"Mean Absolute Error: \",kn_mae)\n",
    "print(\"R-Square (R2): \", kn_r2)"
   ]
  },
  {
   "cell_type": "markdown",
   "id": "66cb9c7d-4e53-4b70-af1d-8b2d5997ab56",
   "metadata": {},
   "source": [
    "# Final report"
   ]
  },
  {
   "cell_type": "code",
   "execution_count": 11,
   "id": "86d8fe4c-af2b-4e3e-885b-848ea939cb16",
   "metadata": {},
   "outputs": [
    {
     "data": {
      "text/html": [
       "<div>\n",
       "<style scoped>\n",
       "    .dataframe tbody tr th:only-of-type {\n",
       "        vertical-align: middle;\n",
       "    }\n",
       "\n",
       "    .dataframe tbody tr th {\n",
       "        vertical-align: top;\n",
       "    }\n",
       "\n",
       "    .dataframe thead th {\n",
       "        text-align: right;\n",
       "    }\n",
       "</style>\n",
       "<table border=\"1\" class=\"dataframe\">\n",
       "  <thead>\n",
       "    <tr style=\"text-align: right;\">\n",
       "      <th></th>\n",
       "      <th>model</th>\n",
       "      <th>mean_squared_error</th>\n",
       "      <th>mean_Absolute_error</th>\n",
       "      <th>R-Square (R2)</th>\n",
       "    </tr>\n",
       "  </thead>\n",
       "  <tbody>\n",
       "    <tr>\n",
       "      <th>0</th>\n",
       "      <td>Random Forest</td>\n",
       "      <td>4.350870e+10</td>\n",
       "      <td>140492.676979</td>\n",
       "      <td>0.416645</td>\n",
       "    </tr>\n",
       "    <tr>\n",
       "      <th>1</th>\n",
       "      <td>Linear regression</td>\n",
       "      <td>4.120315e+10</td>\n",
       "      <td>139597.771031</td>\n",
       "      <td>0.447557</td>\n",
       "    </tr>\n",
       "    <tr>\n",
       "      <th>2</th>\n",
       "      <td>decision tree</td>\n",
       "      <td>7.336120e+10</td>\n",
       "      <td>186711.784606</td>\n",
       "      <td>0.016389</td>\n",
       "    </tr>\n",
       "    <tr>\n",
       "      <th>3</th>\n",
       "      <td>KNN</td>\n",
       "      <td>4.803670e+10</td>\n",
       "      <td>150717.135958</td>\n",
       "      <td>0.355934</td>\n",
       "    </tr>\n",
       "  </tbody>\n",
       "</table>\n",
       "</div>"
      ],
      "text/plain": [
       "               model  mean_squared_error  mean_Absolute_error  R-Square (R2)\n",
       "0      Random Forest        4.350870e+10        140492.676979       0.416645\n",
       "1  Linear regression        4.120315e+10        139597.771031       0.447557\n",
       "2      decision tree        7.336120e+10        186711.784606       0.016389\n",
       "3                KNN        4.803670e+10        150717.135958       0.355934"
      ]
     },
     "execution_count": 11,
     "metadata": {},
     "output_type": "execute_result"
    }
   ],
   "source": [
    "report = pd.DataFrame({'model':['Random Forest','Linear regression','decision tree','KNN'],\n",
    "                      'mean_squared_error':[rf_mse,lr_mse,dt_mse,kn_mse],\n",
    "                      'mean_Absolute_error':[rf_mae,lr_mae,dt_mae,kn_mae],\n",
    "                       'R-Square (R2)':[rf_r2,lr_r2,dt_r2,kn_r2]})\n",
    "\n",
    "report"
   ]
  },
  {
   "cell_type": "code",
   "execution_count": 12,
   "id": "0383a6d6-ed1d-48ab-ba94-7963e32017f8",
   "metadata": {},
   "outputs": [
    {
     "data": {
      "text/plain": [
       "Text(0.5, 1.0, 'Mean Square Error')"
      ]
     },
     "execution_count": 12,
     "metadata": {},
     "output_type": "execute_result"
    },
    {
     "data": {
      "image/png": "[encoded data removed]",
      "text/plain": [
       "<Figure size 640x480 with 1 Axes>"
      ]
     },
     "metadata": {},
     "output_type": "display_data"
    }
   ],
   "source": [
    "# visualizing the mse of all four algorithm\n",
    "res = [rf_mse,lr_mse,dt_mse,kn_mse]\n",
    "color_code = ['seagreen','c','r','m']\n",
    "plt.bar(['Random_Forest','Linear_reg','decision_tree','KNN'],res, color = color_code)\n",
    "plt.title('Mean Square Error')"
   ]
  },
  {
   "cell_type": "code",
   "execution_count": 13,
   "id": "b0995aae-3a76-46fc-9a09-7a533602edbc",
   "metadata": {},
   "outputs": [
    {
     "data": {
      "text/plain": [
       "Text(0.5, 1.0, 'R Square Error')"
      ]
     },
     "execution_count": 13,
     "metadata": {},
     "output_type": "execute_result"
    },
    {
     "data": {
      "image/png": "[encoded data removed]",
      "text/plain": [
       "<Figure size 640x480 with 1 Axes>"
      ]
     },
     "metadata": {},
     "output_type": "display_data"
    }
   ],
   "source": [
    "# visualizing the R square of all four algorithm\n",
    "res = [rf_r2,lr_r2,dt_r2,kn_r2]\n",
    "color_code = ['seagreen','c','r','m']\n",
    "plt.bar(['Random_Forest','Linear_reg','decision_tree','KNN'],res, color = color_code)\n",
    "plt.title('R Square Error')"
   ]
  },
  {
   "cell_type": "markdown",
   "id": "da95511c-c82d-4a1b-b37c-1c450f00e3f0",
   "metadata": {},
   "source": [
    "# Conclusion"
   ]
  },
  {
   "cell_type": "raw",
   "id": "a7c304ad-ec08-43d1-8d11-dc95fd48df6b",
   "metadata": {},
   "source": [
    "# Based on the errors, LinearRegression demonstrates the lesser MSE , followed by RandomForest\n",
    "# DecisionTree have high MSE error , followed by knn\n",
    "# Therefore, for this dataset, LinearRegression proves to be the most effective model.\n",
    "# offering the Lesser MSE and higher r squared among the options"
   ]
  },
  {
   "cell_type": "code",
   "execution_count": null,
   "id": "2bc6e15b-be32-4ede-a153-d5a952e4f4d7",
   "metadata": {},
   "outputs": [],
   "source": []
  }
 ],
 "metadata": {
  "kernelspec": {
   "display_name": "Python 3 (ipykernel)",
   "language": "python",
   "name": "python3"
  },
  "language_info": {
   "codemirror_mode": {
    "name": "ipython",
    "version": 3
   },
   "file_extension": ".py",
   "mimetype": "text/x-python",
   "name": "python",
   "nbconvert_exporter": "python",
   "pygments_lexer": "ipython3",
   "version": "3.12.0"
  }
 },
 "nbformat": 4,
 "nbformat_minor": 5
}
